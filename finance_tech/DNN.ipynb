{
  "cells": [
    {
      "cell_type": "code",
      "execution_count": 2,
      "metadata": {
        "colab": {
          "base_uri": "https://localhost:8080/"
        },
        "id": "HOA1M27Ffi_a",
        "outputId": "85665079-2384-48b7-face-cd236b71bc27"
      },
      "outputs": [
        {
          "name": "stdout",
          "output_type": "stream",
          "text": [
            "Mounted at /content/drive\n"
          ]
        }
      ],
      "source": [
        "from google.colab import drive\n",
        "drive.mount('/content/drive')"
      ]
    },
    {
      "cell_type": "code",
      "execution_count": 3,
      "metadata": {
        "colab": {
          "base_uri": "https://localhost:8080/"
        },
        "id": "wo1XuIl2fpP7",
        "outputId": "3c9f8f45-018e-42ca-b29c-f1c08fb137d1"
      },
      "outputs": [
        {
          "name": "stdout",
          "output_type": "stream",
          "text": [
            "Looking in indexes: https://pypi.org/simple, https://us-python.pkg.dev/colab-wheels/public/simple/\n",
            "Requirement already satisfied: pandas in /usr/local/lib/python3.7/dist-packages (1.3.5)\n",
            "Requirement already satisfied: pytz>=2017.3 in /usr/local/lib/python3.7/dist-packages (from pandas) (2022.6)\n",
            "Requirement already satisfied: numpy>=1.17.3 in /usr/local/lib/python3.7/dist-packages (from pandas) (1.21.6)\n",
            "Requirement already satisfied: python-dateutil>=2.7.3 in /usr/local/lib/python3.7/dist-packages (from pandas) (2.8.2)\n",
            "Requirement already satisfied: six>=1.5 in /usr/local/lib/python3.7/dist-packages (from python-dateutil>=2.7.3->pandas) (1.15.0)\n",
            "Looking in indexes: https://pypi.org/simple, https://us-python.pkg.dev/colab-wheels/public/simple/\n",
            "Requirement already satisfied: numpy in /usr/local/lib/python3.7/dist-packages (1.21.6)\n"
          ]
        }
      ],
      "source": [
        "!pip install pandas\n",
        "!pip install numpy"
      ]
    },
    {
      "cell_type": "code",
      "execution_count": 5,
      "metadata": {
        "colab": {
          "base_uri": "https://localhost:8080/",
          "height": 424
        },
        "id": "pZ8uanP-ftYx",
        "outputId": "944bcfcd-6f55-4542-fbc0-3a69a8884cbd"
      },
      "outputs": [
        {
          "data": {
            "text/html": [
              "\n",
              "  <div id=\"df-a9d15303-6bca-4f0f-a41c-a7adc440e60c\">\n",
              "    <div class=\"colab-df-container\">\n",
              "      <div>\n",
              "<style scoped>\n",
              "    .dataframe tbody tr th:only-of-type {\n",
              "        vertical-align: middle;\n",
              "    }\n",
              "\n",
              "    .dataframe tbody tr th {\n",
              "        vertical-align: top;\n",
              "    }\n",
              "\n",
              "    .dataframe thead th {\n",
              "        text-align: right;\n",
              "    }\n",
              "</style>\n",
              "<table border=\"1\" class=\"dataframe\">\n",
              "  <thead>\n",
              "    <tr style=\"text-align: right;\">\n",
              "      <th></th>\n",
              "      <th>Date</th>\n",
              "      <th>Open</th>\n",
              "      <th>High</th>\n",
              "      <th>Low</th>\n",
              "      <th>Close</th>\n",
              "      <th>Volume</th>\n",
              "    </tr>\n",
              "  </thead>\n",
              "  <tbody>\n",
              "    <tr>\n",
              "      <th>0</th>\n",
              "      <td>2022-03-23</td>\n",
              "      <td>326.646667</td>\n",
              "      <td>346.899994</td>\n",
              "      <td>325.466675</td>\n",
              "      <td>333.036682</td>\n",
              "      <td>120676200</td>\n",
              "    </tr>\n",
              "    <tr>\n",
              "      <th>1</th>\n",
              "      <td>2022-03-24</td>\n",
              "      <td>336.576660</td>\n",
              "      <td>341.496674</td>\n",
              "      <td>329.600006</td>\n",
              "      <td>337.973328</td>\n",
              "      <td>68920800</td>\n",
              "    </tr>\n",
              "    <tr>\n",
              "      <th>2</th>\n",
              "      <td>2022-03-25</td>\n",
              "      <td>336.000000</td>\n",
              "      <td>340.600006</td>\n",
              "      <td>332.440002</td>\n",
              "      <td>336.880005</td>\n",
              "      <td>62031600</td>\n",
              "    </tr>\n",
              "    <tr>\n",
              "      <th>3</th>\n",
              "      <td>2022-03-28</td>\n",
              "      <td>355.033325</td>\n",
              "      <td>365.959991</td>\n",
              "      <td>351.200012</td>\n",
              "      <td>363.946655</td>\n",
              "      <td>102506100</td>\n",
              "    </tr>\n",
              "    <tr>\n",
              "      <th>4</th>\n",
              "      <td>2022-03-29</td>\n",
              "      <td>369.329987</td>\n",
              "      <td>371.589996</td>\n",
              "      <td>357.703339</td>\n",
              "      <td>366.523346</td>\n",
              "      <td>73614900</td>\n",
              "    </tr>\n",
              "    <tr>\n",
              "      <th>...</th>\n",
              "      <td>...</td>\n",
              "      <td>...</td>\n",
              "      <td>...</td>\n",
              "      <td>...</td>\n",
              "      <td>...</td>\n",
              "      <td>...</td>\n",
              "    </tr>\n",
              "    <tr>\n",
              "      <th>121</th>\n",
              "      <td>2022-09-15</td>\n",
              "      <td>301.829987</td>\n",
              "      <td>309.119995</td>\n",
              "      <td>300.720001</td>\n",
              "      <td>303.750000</td>\n",
              "      <td>64795500</td>\n",
              "    </tr>\n",
              "    <tr>\n",
              "      <th>122</th>\n",
              "      <td>2022-09-16</td>\n",
              "      <td>299.609985</td>\n",
              "      <td>303.709991</td>\n",
              "      <td>295.600006</td>\n",
              "      <td>303.350006</td>\n",
              "      <td>86949500</td>\n",
              "    </tr>\n",
              "    <tr>\n",
              "      <th>123</th>\n",
              "      <td>2022-09-19</td>\n",
              "      <td>300.089996</td>\n",
              "      <td>309.839996</td>\n",
              "      <td>297.799988</td>\n",
              "      <td>309.070007</td>\n",
              "      <td>60231200</td>\n",
              "    </tr>\n",
              "    <tr>\n",
              "      <th>124</th>\n",
              "      <td>2022-09-20</td>\n",
              "      <td>306.910004</td>\n",
              "      <td>313.329987</td>\n",
              "      <td>305.579987</td>\n",
              "      <td>308.730011</td>\n",
              "      <td>61642800</td>\n",
              "    </tr>\n",
              "    <tr>\n",
              "      <th>125</th>\n",
              "      <td>2022-09-21</td>\n",
              "      <td>308.290009</td>\n",
              "      <td>313.799988</td>\n",
              "      <td>300.630005</td>\n",
              "      <td>300.799988</td>\n",
              "      <td>62555700</td>\n",
              "    </tr>\n",
              "  </tbody>\n",
              "</table>\n",
              "<p>126 rows × 6 columns</p>\n",
              "</div>\n",
              "      <button class=\"colab-df-convert\" onclick=\"convertToInteractive('df-a9d15303-6bca-4f0f-a41c-a7adc440e60c')\"\n",
              "              title=\"Convert this dataframe to an interactive table.\"\n",
              "              style=\"display:none;\">\n",
              "        \n",
              "  <svg xmlns=\"http://www.w3.org/2000/svg\" height=\"24px\"viewBox=\"0 0 24 24\"\n",
              "       width=\"24px\">\n",
              "    <path d=\"M0 0h24v24H0V0z\" fill=\"none\"/>\n",
              "    <path d=\"M18.56 5.44l.94 2.06.94-2.06 2.06-.94-2.06-.94-.94-2.06-.94 2.06-2.06.94zm-11 1L8.5 8.5l.94-2.06 2.06-.94-2.06-.94L8.5 2.5l-.94 2.06-2.06.94zm10 10l.94 2.06.94-2.06 2.06-.94-2.06-.94-.94-2.06-.94 2.06-2.06.94z\"/><path d=\"M17.41 7.96l-1.37-1.37c-.4-.4-.92-.59-1.43-.59-.52 0-1.04.2-1.43.59L10.3 9.45l-7.72 7.72c-.78.78-.78 2.05 0 2.83L4 21.41c.39.39.9.59 1.41.59.51 0 1.02-.2 1.41-.59l7.78-7.78 2.81-2.81c.8-.78.8-2.07 0-2.86zM5.41 20L4 18.59l7.72-7.72 1.47 1.35L5.41 20z\"/>\n",
              "  </svg>\n",
              "      </button>\n",
              "      \n",
              "  <style>\n",
              "    .colab-df-container {\n",
              "      display:flex;\n",
              "      flex-wrap:wrap;\n",
              "      gap: 12px;\n",
              "    }\n",
              "\n",
              "    .colab-df-convert {\n",
              "      background-color: #E8F0FE;\n",
              "      border: none;\n",
              "      border-radius: 50%;\n",
              "      cursor: pointer;\n",
              "      display: none;\n",
              "      fill: #1967D2;\n",
              "      height: 32px;\n",
              "      padding: 0 0 0 0;\n",
              "      width: 32px;\n",
              "    }\n",
              "\n",
              "    .colab-df-convert:hover {\n",
              "      background-color: #E2EBFA;\n",
              "      box-shadow: 0px 1px 2px rgba(60, 64, 67, 0.3), 0px 1px 3px 1px rgba(60, 64, 67, 0.15);\n",
              "      fill: #174EA6;\n",
              "    }\n",
              "\n",
              "    [theme=dark] .colab-df-convert {\n",
              "      background-color: #3B4455;\n",
              "      fill: #D2E3FC;\n",
              "    }\n",
              "\n",
              "    [theme=dark] .colab-df-convert:hover {\n",
              "      background-color: #434B5C;\n",
              "      box-shadow: 0px 1px 3px 1px rgba(0, 0, 0, 0.15);\n",
              "      filter: drop-shadow(0px 1px 2px rgba(0, 0, 0, 0.3));\n",
              "      fill: #FFFFFF;\n",
              "    }\n",
              "  </style>\n",
              "\n",
              "      <script>\n",
              "        const buttonEl =\n",
              "          document.querySelector('#df-a9d15303-6bca-4f0f-a41c-a7adc440e60c button.colab-df-convert');\n",
              "        buttonEl.style.display =\n",
              "          google.colab.kernel.accessAllowed ? 'block' : 'none';\n",
              "\n",
              "        async function convertToInteractive(key) {\n",
              "          const element = document.querySelector('#df-a9d15303-6bca-4f0f-a41c-a7adc440e60c');\n",
              "          const dataTable =\n",
              "            await google.colab.kernel.invokeFunction('convertToInteractive',\n",
              "                                                     [key], {});\n",
              "          if (!dataTable) return;\n",
              "\n",
              "          const docLinkHtml = 'Like what you see? Visit the ' +\n",
              "            '<a target=\"_blank\" href=https://colab.research.google.com/notebooks/data_table.ipynb>data table notebook</a>'\n",
              "            + ' to learn more about interactive tables.';\n",
              "          element.innerHTML = '';\n",
              "          dataTable['output_type'] = 'display_data';\n",
              "          await google.colab.output.renderOutput(dataTable, element);\n",
              "          const docLink = document.createElement('div');\n",
              "          docLink.innerHTML = docLinkHtml;\n",
              "          element.appendChild(docLink);\n",
              "        }\n",
              "      </script>\n",
              "    </div>\n",
              "  </div>\n",
              "  "
            ],
            "text/plain": [
              "           Date        Open        High         Low       Close     Volume\n",
              "0    2022-03-23  326.646667  346.899994  325.466675  333.036682  120676200\n",
              "1    2022-03-24  336.576660  341.496674  329.600006  337.973328   68920800\n",
              "2    2022-03-25  336.000000  340.600006  332.440002  336.880005   62031600\n",
              "3    2022-03-28  355.033325  365.959991  351.200012  363.946655  102506100\n",
              "4    2022-03-29  369.329987  371.589996  357.703339  366.523346   73614900\n",
              "..          ...         ...         ...         ...         ...        ...\n",
              "121  2022-09-15  301.829987  309.119995  300.720001  303.750000   64795500\n",
              "122  2022-09-16  299.609985  303.709991  295.600006  303.350006   86949500\n",
              "123  2022-09-19  300.089996  309.839996  297.799988  309.070007   60231200\n",
              "124  2022-09-20  306.910004  313.329987  305.579987  308.730011   61642800\n",
              "125  2022-09-21  308.290009  313.799988  300.630005  300.799988   62555700\n",
              "\n",
              "[126 rows x 6 columns]"
            ]
          },
          "execution_count": 5,
          "metadata": {},
          "output_type": "execute_result"
        }
      ],
      "source": [
        "import pandas as pd\n",
        "import numpy as np\n",
        "from keras.models import Sequential\n",
        "from keras.layers.core import Dense, Activation, Dropout\n",
        "\n",
        "df = pd.read_csv('/content/drive/MyDrive/金融大數據/DNN/TSLA_1.csv')\n",
        "df = df.drop(['Adj Close'], axis=1)\n",
        "df"
      ]
    },
    {
      "cell_type": "code",
      "execution_count": 25,
      "metadata": {
        "colab": {
          "base_uri": "https://localhost:8080/"
        },
        "id": "LJfmB7kTg_V6",
        "outputId": "84e9e61b-37c5-45f8-c75d-b11329747932"
      },
      "outputs": [
        {
          "name": "stdout",
          "output_type": "stream",
          "text": [
            "(126, 3) (126, 2)\n"
          ]
        }
      ],
      "source": [
        "#分資料x, y\n",
        "y = np.array(df.iloc[:,1:3]).reshape(-1,2) #open, high\n",
        "x = np.array(df.iloc[:,3:]).reshape(-1,3) #close, low, volume\n",
        "\n",
        "#標準化\n",
        "from sklearn.preprocessing import StandardScaler\n",
        "ss = StandardScaler()\n",
        "y_train = ss.fit_transform(y)\n",
        "x_train = ss.fit_transform(x)\n",
        "print(x.shape,y.shape)"
      ]
    },
    {
      "cell_type": "code",
      "execution_count": 26,
      "metadata": {
        "colab": {
          "base_uri": "https://localhost:8080/"
        },
        "id": "yczszTZmeSq6",
        "outputId": "cb48097d-2cf5-4a56-c5b8-f7aa91fd61a0"
      },
      "outputs": [
        {
          "name": "stdout",
          "output_type": "stream",
          "text": [
            "Epoch 1/10\n",
            "1/1 - 1s - loss: 1.5616 - accuracy: 0.6100 - val_loss: 0.1227 - val_accuracy: 0.7308 - 514ms/epoch - 514ms/step\n",
            "Epoch 2/10\n",
            "1/1 - 0s - loss: 1.5550 - accuracy: 0.5500 - val_loss: 0.1227 - val_accuracy: 0.6923 - 21ms/epoch - 21ms/step\n",
            "Epoch 3/10\n",
            "1/1 - 0s - loss: 1.5515 - accuracy: 0.5100 - val_loss: 0.1227 - val_accuracy: 0.6923 - 22ms/epoch - 22ms/step\n",
            "Epoch 4/10\n",
            "1/1 - 0s - loss: 1.5502 - accuracy: 0.5900 - val_loss: 0.1228 - val_accuracy: 0.7308 - 21ms/epoch - 21ms/step\n",
            "Epoch 5/10\n",
            "1/1 - 0s - loss: 1.5515 - accuracy: 0.4700 - val_loss: 0.1228 - val_accuracy: 0.6538 - 23ms/epoch - 23ms/step\n",
            "Epoch 6/10\n",
            "1/1 - 0s - loss: 1.5500 - accuracy: 0.4600 - val_loss: 0.1229 - val_accuracy: 0.6538 - 24ms/epoch - 24ms/step\n",
            "Epoch 7/10\n",
            "1/1 - 0s - loss: 1.5476 - accuracy: 0.5500 - val_loss: 0.1230 - val_accuracy: 0.6154 - 19ms/epoch - 19ms/step\n",
            "Epoch 8/10\n",
            "1/1 - 0s - loss: 1.5525 - accuracy: 0.5600 - val_loss: 0.1231 - val_accuracy: 0.6154 - 20ms/epoch - 20ms/step\n",
            "Epoch 9/10\n",
            "1/1 - 0s - loss: 1.5480 - accuracy: 0.5800 - val_loss: 0.1232 - val_accuracy: 0.5769 - 21ms/epoch - 21ms/step\n",
            "Epoch 10/10\n",
            "1/1 - 0s - loss: 1.5486 - accuracy: 0.5100 - val_loss: 0.1232 - val_accuracy: 0.5769 - 19ms/epoch - 19ms/step\n"
          ]
        }
      ],
      "source": [
        "from keras.models import Sequential\n",
        "from keras.layers.core import Dense, Activation, Dropout\n",
        "\n",
        "model = Sequential()\n",
        "model.add(Dense(64, input_dim=3))# 加入 hidden layer1 of 64 neurons 並指定 input_dim 為 3\n",
        "model.add(Activation('relu'))# 使用 'relu' 當作 activation function\n",
        "model.add(Dropout(0.3))# 使用 Dropout 隨機捨棄 30% 的連線\n",
        "model.add(Dense(32))\n",
        "model.add(Activation('relu'))\n",
        "model.add(Dropout(0.3))\n",
        "model.add(Dense(16))\n",
        "model.add(Activation('relu'))\n",
        "model.add(Dropout(0.3))\n",
        "model.add(Dense(2))\n",
        "model.add(Activation('softmax'))\n",
        "  \n",
        "model.compile(loss='mse', optimizer='adam', metrics=['accuracy'])# 定義訓練方式 \n",
        "\n",
        "# 開始訓練  \n",
        "train_history = model.fit(x=x_train,  \n",
        "                          y=y_train, validation_split=0.2,  \n",
        "                          epochs=10, batch_size=300, verbose=2)  "
      ]
    }
  ],
  "metadata": {
    "colab": {
      "provenance": []
    },
    "kernelspec": {
      "display_name": "Python 3",
      "name": "python3"
    },
    "language_info": {
      "name": "python"
    }
  },
  "nbformat": 4,
  "nbformat_minor": 0
}
