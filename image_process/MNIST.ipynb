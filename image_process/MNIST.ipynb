{
  "nbformat": 4,
  "nbformat_minor": 0,
  "metadata": {
    "colab": {
      "provenance": []
    },
    "kernelspec": {
      "name": "python3",
      "display_name": "Python 3"
    },
    "language_info": {
      "name": "python"
    }
  },
  "cells": [
    {
      "cell_type": "code",
      "execution_count": null,
      "metadata": {
        "id": "UVowtLeAbaf0"
      },
      "outputs": [],
      "source": [
        "import tensorflow as tf\n",
        "import os\n",
        "os.environ['TF_CPP_MIN_LOG_LEVEL'] = '2'"
      ]
    },
    {
      "cell_type": "code",
      "source": [
        "mnist = tf.keras.datasets.mnist\n",
        "(x_train, y_train), (x_test, y_test) = mnist.load_data()\n",
        "x_train, x_test = x_train / 255.0, x_test / 255.0 "
      ],
      "metadata": {
        "id": "aB1Yk-tLcmiY"
      },
      "execution_count": null,
      "outputs": []
    },
    {
      "cell_type": "code",
      "source": [
        "print(len(x_train)) #training data 總共有60000張圖片\n",
        "print(x_train[0].shape) "
      ],
      "metadata": {
        "colab": {
          "base_uri": "https://localhost:8080/"
        },
        "id": "NRxHH9JrgsJP",
        "outputId": "e919b069-9745-4a4f-9074-8728ae8dae62"
      },
      "execution_count": null,
      "outputs": [
        {
          "output_type": "stream",
          "name": "stdout",
          "text": [
            "60000\n",
            "(28, 28)\n"
          ]
        }
      ]
    },
    {
      "cell_type": "code",
      "source": [
        "import matplotlib.pyplot as plt\n",
        "from pylab import *\n",
        "\n",
        "for i in range(5):\n",
        " ax=plt.subplot(1,5,1+i)\n",
        " ax=imshow(x_train[i], cmap='gray')\n",
        " print('label='+str(y_train[i])) #無法使用set_title\n",
        "plt.show()"
      ],
      "metadata": {
        "colab": {
          "base_uri": "https://localhost:8080/",
          "height": 198
        },
        "id": "ycJqp1tx8XuU",
        "outputId": "f0e34bf8-f601-47c7-f369-09ef72cb5e3d"
      },
      "execution_count": null,
      "outputs": [
        {
          "output_type": "stream",
          "name": "stdout",
          "text": [
            "label=5\n",
            "label=0\n",
            "label=4\n",
            "label=1\n",
            "label=9\n"
          ]
        },
        {
          "output_type": "display_data",
          "data": {
            "text/plain": [
              "<Figure size 432x288 with 5 Axes>"
            ],
            "image/png": "[encoded data removed]"
          },
          "metadata": {
            "needs_background": "light"
          }
        }
      ]
    },
    {
      "cell_type": "code",
      "source": [
        "from tensorflow.keras.layers import Dense, Conv2D, Dropout, Flatten, MaxPooling2D\n",
        "from tensorflow.keras.models import Sequential\n",
        "input_shape = (28, 28, 1)\n",
        "model = Sequential()\n",
        "model.add(Conv2D(28, kernel_size=(3,3), input_shape=input_shape)) #圖片沒超過128*128 kernel size(長寬)為奇數<=3\n",
        "model.add(MaxPooling2D(pool_size=(2, 2)))\n",
        "model.add(Flatten()) # Flattening the 2D arrays for fully connected layers\n",
        "model.add(Dense(128, activation=tf.nn.relu))\n",
        "model.add(Dropout(0.2))\n",
        "model.add(Dense(10,activation=tf.nn.softmax))"
      ],
      "metadata": {
        "id": "pvuwesysgwKu"
      },
      "execution_count": null,
      "outputs": []
    },
    {
      "cell_type": "code",
      "source": [
        "model.compile(optimizer='adam', #訓練時用的優化方法，adam最快收斂提高準確度\n",
        "              loss='sparse_categorical_crossentropy', #用來計算模型在訓練中要減少的量(模型權重的斜率)，loss函式有很多類別，此類別用於multi-classification，2個以上分類且label為int\n",
        "              metrics=['accuracy'])  #成效衡量指標\n",
        "model.summary()"
      ],
      "metadata": {
        "colab": {
          "base_uri": "https://localhost:8080/"
        },
        "id": "EWg3tkAJg0ux",
        "outputId": "d6d2ec96-0407-4dfc-bee5-aa7b017b81fb"
      },
      "execution_count": null,
      "outputs": [
        {
          "output_type": "stream",
          "name": "stdout",
          "text": [
            "Model: \"sequential_1\"\n",
            "_________________________________________________________________\n",
            " Layer (type)                Output Shape              Param #   \n",
            "=================================================================\n",
            " conv2d_1 (Conv2D)           (None, 26, 26, 28)        280       \n",
            "                                                                 \n",
            " max_pooling2d_1 (MaxPooling  (None, 13, 13, 28)       0         \n",
            " 2D)                                                             \n",
            "                                                                 \n",
            " flatten_1 (Flatten)         (None, 4732)              0         \n",
            "                                                                 \n",
            " dense_2 (Dense)             (None, 128)               605824    \n",
            "                                                                 \n",
            " dropout_1 (Dropout)         (None, 128)               0         \n",
            "                                                                 \n",
            " dense_3 (Dense)             (None, 10)                1290      \n",
            "                                                                 \n",
            "=================================================================\n",
            "Total params: 607,394\n",
            "Trainable params: 607,394\n",
            "Non-trainable params: 0\n",
            "_________________________________________________________________\n"
          ]
        }
      ]
    },
    {
      "cell_type": "code",
      "source": [
        "m=model.fit(x_train, y_train, epochs=5, batch_size=50)      # 將搭好的 model 去 fit 我們的 training data\n",
        "model.evaluate(x_test, y_test, verbose=2) "
      ],
      "metadata": {
        "colab": {
          "base_uri": "https://localhost:8080/"
        },
        "id": "68mTzQCAg5xo",
        "outputId": "2adb74cf-9e8c-4c2b-8e0d-e9abe27b9afb"
      },
      "execution_count": null,
      "outputs": [
        {
          "output_type": "stream",
          "name": "stdout",
          "text": [
            "Epoch 1/5\n",
            "1200/1200 [==============================] - 31s 26ms/step - loss: 0.2185 - accuracy: 0.9340\n",
            "Epoch 2/5\n",
            "1200/1200 [==============================] - 31s 26ms/step - loss: 0.0869 - accuracy: 0.9735\n",
            "Epoch 3/5\n",
            "1200/1200 [==============================] - 31s 26ms/step - loss: 0.0601 - accuracy: 0.9811\n",
            "Epoch 4/5\n",
            "1200/1200 [==============================] - 30s 25ms/step - loss: 0.0472 - accuracy: 0.9847\n",
            "Epoch 5/5\n",
            "1200/1200 [==============================] - 30s 25ms/step - loss: 0.0360 - accuracy: 0.9878\n",
            "313/313 - 2s - loss: 0.0468 - accuracy: 0.9851 - 2s/epoch - 7ms/step\n"
          ]
        },
        {
          "output_type": "execute_result",
          "data": {
            "text/plain": [
              "[0.04678872600197792, 0.9850999712944031]"
            ]
          },
          "metadata": {},
          "execution_count": 26
        }
      ]
    }
  ]
}